{
 "cells": [
  {
   "cell_type": "code",
   "execution_count": 1,
   "id": "3ac45c8d-15da-4bd0-89ff-b793082c3863",
   "metadata": {},
   "outputs": [
    {
     "name": "stdout",
     "output_type": "stream",
     "text": [
      "1/1 [==============================] - 2s 2s/step\n"
     ]
    },
    {
     "data": {
      "text/plain": [
       "'Ahmed_Gamal'"
      ]
     },
     "execution_count": 1,
     "metadata": {},
     "output_type": "execute_result"
    }
   ],
   "source": [
    "# import libraries\n",
    "import librosa\n",
    "import numpy as np\n",
    "from keras.models import load_model\n",
    "\n",
    "# This where to load your model\n",
    "model = load_model('model.h5')\n",
    "\n",
    "# This is a Preprocessing for audio which is required for prediction \n",
    "def Preprocessing(path):\n",
    "    y, sr = librosa.load(path, duration=226)\n",
    "    data = librosa.util.normalize(y)\n",
    "    data = librosa.util.fix_length(data= data, size=sr)\n",
    "    spec = librosa.feature.melspectrogram(y=data, sr=sr, hop_length=512, fmax=8000)\n",
    "    spec_db = librosa.power_to_db(spec, ref= np.max)\n",
    "    x_ = np.mean(spec_db.T, axis=0)\n",
    "    x_ = np.expand_dims(x_, axis =  1)\n",
    "    x_ = np.expand_dims(x_, axis =  0)\n",
    "    return x_\n",
    "\n",
    "# This step for prediction\n",
    "def prediction(path):\n",
    "    classes = ['Ahmed_Gamal', 'Ahmed_Abdelhady', 'Unkwon']\n",
    "    data = Preprocessing(path)\n",
    "    pred = np.argmax(model.predict(data))\n",
    "    return classes[pred]\n",
    "\n",
    "# Put your audio path here\n",
    "prediction('WhatsApp Audio 2023-05-15 at 08.47.09.dat (online-audio-converter.com).mp3')"
   ]
  },
  {
   "cell_type": "code",
   "execution_count": 2,
   "id": "b8f398f1-84eb-4aec-a11f-05829dddca49",
   "metadata": {},
   "outputs": [
    {
     "name": "stdout",
     "output_type": "stream",
     "text": [
      "1/1 [==============================] - 0s 13ms/step\n"
     ]
    },
    {
     "data": {
      "text/plain": [
       "'Ahmed_Abdelhady'"
      ]
     },
     "execution_count": 2,
     "metadata": {},
     "output_type": "execute_result"
    }
   ],
   "source": [
    "prediction('test.mp3')"
   ]
  },
  {
   "cell_type": "code",
   "execution_count": 3,
   "id": "8adab022-b0de-405f-8d5e-67041d8d53c9",
   "metadata": {},
   "outputs": [
    {
     "name": "stdout",
     "output_type": "stream",
     "text": [
      "1/1 [==============================] - 0s 14ms/step\n"
     ]
    },
    {
     "data": {
      "text/plain": [
       "'Unkwon'"
      ]
     },
     "execution_count": 3,
     "metadata": {},
     "output_type": "execute_result"
    }
   ],
   "source": [
    "prediction('data/random.10.mp3')"
   ]
  }
 ],
 "metadata": {
  "kernelspec": {
   "display_name": "Ai_gpu",
   "language": "python",
   "name": "ai_gpu"
  },
  "language_info": {
   "codemirror_mode": {
    "name": "ipython",
    "version": 3
   },
   "file_extension": ".py",
   "mimetype": "text/x-python",
   "name": "python",
   "nbconvert_exporter": "python",
   "pygments_lexer": "ipython3",
   "version": "3.9.16"
  }
 },
 "nbformat": 4,
 "nbformat_minor": 5
}
